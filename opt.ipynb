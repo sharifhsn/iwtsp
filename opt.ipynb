{
 "cells": [
  {
   "cell_type": "markdown",
   "metadata": {},
   "source": [
    "# Improved Nonlinear Optimization for Willow Tree Sampling\n",
    "\n",
    "This notebook solves the nonlinear optimization problem for finding the optimal representative values `z` for a discretized normal distribution, a key step in constructing an implied willow tree. \n",
    "\n",
    "The problem is formulated as a nonlinear program with equality and box constraints. Instead of using a black-box penalty method, this notebook uses `JuMP.jl` to explicitly define the objective function and constraints. This approach is more robust and mathematically precise.\n",
    "\n",
    "The `Ipopt` solver, a state-of-the-art interior-point optimizer for large-scale nonlinear optimization, is used to find the solution.\n",
    "\n",
    "### Dependencies\n",
    "\n",
    "Before running the code, make sure you have the necessary Julia packages installed. You can install them by running the following commands in a Julia REPL or a code cell in this notebook:\n"
   ]
  },
  {
   "cell_type": "code",
   "execution_count": 1,
   "metadata": {},
   "outputs": [
    {
     "name": "stdout",
     "output_type": "stream",
     "text": [
      "Done loading packages.\n",
      "Random number between 0 and 0.1: 0.005828290383190705\n"
     ]
    },
    {
     "ename": "BoundsError",
     "evalue": "BoundsError: attempt to access 31-element Vector{Float64} at index [1:100]",
     "output_type": "error",
     "traceback": [
      "BoundsError: attempt to access 31-element Vector{Float64} at index [1:100]\n",
      "\n",
      "Stacktrace:\n",
      " [1] throw_boundserror(A::Vector{Float64}, I::Tuple{UnitRange{Int64}})\n",
      "   @ Base ./essentials.jl:14\n",
      " [2] checkbounds\n",
      "   @ ./abstractarray.jl:699 [inlined]\n",
      " [3] getindex(A::Vector{Float64}, I::UnitRange{Int64})\n",
      "   @ Base ./array.jl:936\n",
      " [4] top-level scope\n",
      "   @ ~/Code/iwtsp/jl_notebook_cell_df34fa98e69747e1a8f8a730347b8e2f_W1sZmlsZQ==.jl:15"
     ]
    }
   ],
   "source": [
    "using JuMP, Ipopt\n",
    "\n",
    "println(\"Done loading packages.\")\n",
    "\n",
    "rand_val = rand() * 0.1\n",
    "println(\"Random number between 0 and 0.1: \", rand_val)\n",
    "\n",
    "# --- Problem Data ---\n",
    "m = 100\n",
    "q = [0.01558822190112092, 0.0216736949157998, 0.025263154654762213, 0.02794640775787956, 0.03013487069165903, 0.03200474600938565, 0.033649575134551336, 0.03512561663999733, 0.03646962148539734, 0.037707058932142296, 0.03885638269578825, 0.03993143616656965, 0.04094289824450984, 0.04189919785855301, 0.04280711691188369, 0.04280711691188369, 0.04189919785855301, 0.04094289824450984, 0.03993143616656965, 0.03885638269578825, 0.037707058932142296, 0.03646962148539734, 0.03512561663999733, 0.033649575134551336, 0.03200474600938565, 0.03013487069165903, 0.02794640775787956, 0.025263154654762213, 0.0216736949157998, 0.01558822190112092]\n",
    "Z_bounds = [-3.0, -2.154813341554466, -1.7833838913613136, -1.5339167165110092, -1.3378573012010246, -1.1719610363878912, -1.0252988635663451, -0.8917604546545208, -0.7675197160795298, -0.6499696621466611, -0.5372051182121156, -0.42774236591438064, -0.320351913092292, -0.21394830480998098, -0.10750826831304774, 0.0, 0.10750826831304774, 0.21394830480998098, 0.320351913092292, 0.42774236591438064, 0.5372051182121156, 0.6499696621466611, 0.7675197160795298, 0.8917604546545208, 1.0252988635663451, 1.1719610363878912, 1.3378573012010246, 1.5339167165110092, 1.7833838913613136, 2.154813341554466, 3.0]\n",
    "z_initial = [-2.5774066707772327 - rand_val, -1.9690986164578899, -1.6586503039361613, -1.435887008856017, -1.254909168794458, -1.0986299499771182, -0.958529659110433, -0.8296400853670254, -0.7087446891130955, -0.5935873901793883, -0.4824737420632481, -0.37404713950333635, -0.2671501089511365, -0.16072828656151436, -0.05375413415652387, 0.05375413415652387, 0.16072828656151436, 0.2671501089511365, 0.37404713950333635, 0.4824737420632481, 0.5935873901793883, 0.7087446891130955, 0.8296400853670254, 0.958529659110433, 1.0986299499771182, 1.254909168794458, 1.435887008856017, 1.6586503039361613, 1.9690986164578899, 2.5774066707772327 + rand_val]\n",
    "\n",
    "# Define the lower and upper bounds for z\n",
    "lb = Z_bounds[1:m]\n",
    "ub = Z_bounds[2:m+1]\n",
    "\n",
    "# --- JuMP Model ---\n",
    "# Create a new JuMP model and specify the Ipopt solver\n",
    "model = Model(Ipopt.Optimizer)\n",
    "\n",
    "# Set strict tolerance parameters for Ipopt\n",
    "tol = 1e-14\n",
    "set_optimizer_attribute(model, \"tol\", tol)  # Default is 1e-8\n",
    "set_optimizer_attribute(model, \"constr_viol_tol\", tol)  # Constraint violation tolerance\n",
    "set_optimizer_attribute(model, \"acceptable_tol\", tol / 100)  # Acceptable tolerance\n",
    "set_optimizer_attribute(model, \"dual_inf_tol\", tol)  # Dual infeasibility tolerance\n",
    "set_optimizer_attribute(model, \"compl_inf_tol\", tol)  # Complementarity tolerance\n",
    "set_optimizer_attribute(model, \"max_iter\", 1000)  # Increase max iterations if needed\n",
    "\n",
    "# Define the variables 'z' with their bounds and initial values\n",
    "@variable(model, lb[i] <= z[i=1:m] <= ub[i], start = z_initial[i])\n",
    "\n",
    "# Define the objective function\n",
    "# min (sum(q_i * z_i^4) - 3)^2\n",
    "@objective(model, Min, (sum(q[i] * z[i]^4 for i in 1:m) - 3.0)^2)\n",
    "\n",
    "# Define the equality constraints\n",
    "# sum(q_i * z_i) = 0\n",
    "@constraint(model, mean_constraint, sum(q[i] * z[i] for i in 1:m) == 0)\n",
    "\n",
    "# sum(q_i * z_i^2) = 1\n",
    "@constraint(model, variance_constraint, sum(q[i] * z[i]^2 for i in 1:m) == 1)\n",
    "\n",
    "\n",
    "println(\"Solving the optimization problem with JuMP and Ipopt...\")\n",
    "# Solve the model\n",
    "optimize!(model)\n",
    "\n",
    "\n",
    "# --- Results ---\n",
    "println(\"\\n--- Results ---\")\n",
    "println(\"Termination status: \", termination_status(model))\n",
    "println(\"Primal status: \", primal_status(model))\n",
    "println(\"Objective value: \", objective_value(model))\n",
    "\n",
    "if termination_status(model) == MOI.LOCALLY_SOLVED\n",
    "    solution_z = value.(z)\n",
    "    println(\"\\nOptimal z values:\")\n",
    "    println(solution_z)\n",
    "\n",
    "    # You can also verify the constraints with the solution\n",
    "    mean_val = sum(q .* solution_z)\n",
    "    variance_val = sum(q .* solution_z.^2)\n",
    "    kurtosis_val = sum(q .* solution_z.^4)\n",
    "    println(\"\\nVerification of constraints:\")\n",
    "    println(\"Mean: \", mean_val)\n",
    "    println(\"Variance: \", variance_val)\n",
    "    println(\"Sum of q*z^4 (related to kurtosis): \", kurtosis_val)\n",
    "else\n",
    "    println(\"\\nCould not find an optimal solution.\")\n",
    "end"
   ]
  },
  {
   "cell_type": "markdown",
   "metadata": {},
   "source": [
    "### Explanation of the Results\n",
    "\n",
    "The output of the solver provides several key pieces of information:\n",
    "\n",
    "- **Termination status:** This tells you how the optimization process ended. `LOCALLY_SOLVED` indicates that the solver found a point that satisfies the first-order optimality conditions, meaning it is a local minimum. For non-convex problems like this one, a local optimum is often the best we can guarantee.\n",
    "- **Primal status:** This indicates whether a feasible solution was found. `FEASIBLE_POINT` means the solution satisfies all the defined constraints.\n",
    "- **Objective value:** This is the value of the objective function at the optimal solution. In this case, it is the squared error of the fourth moment from the target value of 3. A value very close to zero indicates a good fit.\n",
    "- **Optimal z values:** These are the final values of the decision variables that minimize the objective function while satisfying the constraints.\n",
    "- **Verification of constraints:** This section explicitly calculates the mean, variance, and fourth moment using the optimal `z` values to confirm that the constraints are indeed satisfied to a high degree of precision."
   ]
  }
 ],
 "metadata": {
  "kernelspec": {
   "display_name": "Julia 1.11.5",
   "language": "julia",
   "name": "julia-1.11"
  },
  "language_info": {
   "file_extension": ".jl",
   "mimetype": "application/julia",
   "name": "julia",
   "version": "1.11.5"
  }
 },
 "nbformat": 4,
 "nbformat_minor": 4
}
